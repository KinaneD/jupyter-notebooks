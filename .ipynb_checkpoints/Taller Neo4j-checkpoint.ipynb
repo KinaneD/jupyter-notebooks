{
 "cells": [
  {
   "cell_type": "markdown",
   "metadata": {
    "collapsed": true
   },
   "source": [
    "## Taller Neo4j\n",
    "El objetivo de este taller es embarrarse un poco las manos con Cypher y utitilizar el driver de Neo4j para Python.\n",
    "Vamos a:\n",
    "* Usar Cypher y Python para CRUD nodos y relaciones.\n",
    "* Hacer unos ejercicios en Cypher y Python.\n",
    "\n",
    "Este notebook le debe service de tutorial y de clade práctica."
   ]
  },
  {
   "cell_type": "code",
   "execution_count": 16,
   "metadata": {
    "collapsed": false
   },
   "outputs": [
    {
     "name": "stderr",
     "output_type": "stream",
     "text": [
      "/opt/conda/lib/python3.5/site-packages/ipykernel/__main__.py:5: DeprecationWarning: Graph.neo4j_version is deprecated, use DBMS.kernel_version instead\n"
     ]
    },
    {
     "data": {
      "text/plain": [
       "(3, 0, 7)"
      ]
     },
     "execution_count": 16,
     "metadata": {},
     "output_type": "execute_result"
    }
   ],
   "source": [
    "from py2neo import Graph, Schema, authenticate\n",
    "\n",
    "authenticate(\"neo4j:7474\", \"neo4j\", \"qwerty\")\n",
    "graph = Graph(\"http://neo4j:7474/db/data/\")\n",
    "graph.neo4j_version"
   ]
  },
  {
   "cell_type": "markdown",
   "metadata": {},
   "source": [
    "### Cypher\n",
    "Vamos a tomar la asistencia. Con la siguiente consulta en Cypher creamos dos nodos Persona, \"Olemis\" y \"Kinane\" además de un nodo Taller \"Neo4j Python\" con una relación \"Asistió\"."
   ]
  },
  {
   "cell_type": "code",
   "execution_count": 17,
   "metadata": {
    "collapsed": false
   },
   "outputs": [],
   "source": [
    "query = \"\"\"\n",
    "CREATE (:Persona{nombre:\"Kinane\"})-[:ASISTIÓ]->(taller:Taller{título: \"Neo4j Python\"}),\n",
    "(:Persona{nombre:\"Olemis\"})-[:ASISTIÓ]->(taller);\n",
    "\"\"\"\n",
    "\n",
    "data = graph.run(query)"
   ]
  },
  {
   "cell_type": "markdown",
   "metadata": {},
   "source": [
    "Vamos a recuperar el nodo Taller y contar la asistencia"
   ]
  },
  {
   "cell_type": "code",
   "execution_count": 18,
   "metadata": {
    "collapsed": false
   },
   "outputs": [
    {
     "name": "stdout",
     "output_type": "stream",
     "text": [
      "('inscritos': 2)\n"
     ]
    }
   ],
   "source": [
    "query = \"\"\"\n",
    "MATCH (taller:Taller)\n",
    "WHERE taller.título = \"Neo4j Python\"\n",
    "MATCH (taller)<-[:ASISTIÓ]-(inscritos:Persona)\n",
    "RETURN count(inscritos) as inscritos;\n",
    "\"\"\"\n",
    "\n",
    "data = graph.run(query)\n",
    "\n",
    "for d in data:\n",
    "    print(d)"
   ]
  },
  {
   "cell_type": "markdown",
   "metadata": {},
   "source": [
    "Marque su asistencia, creando una relación similar entre un nuevo nodo Persona y el Taller."
   ]
  },
  {
   "cell_type": "code",
   "execution_count": 19,
   "metadata": {
    "collapsed": false
   },
   "outputs": [],
   "source": [
    "# Aquí"
   ]
  },
  {
   "cell_type": "markdown",
   "metadata": {},
   "source": [
    "Ahora que has podido crear tu primer nodo y relación en Cypher, intenta añdir nuevos nodos y relaciones. "
   ]
  },
  {
   "cell_type": "code",
   "execution_count": 20,
   "metadata": {
    "collapsed": false
   },
   "outputs": [],
   "source": [
    "query = \"\"\"\n",
    "MATCH (taller:Taller),\n",
    "(kinane:Persona{nombre: \"Kinane\"})\n",
    "WHERE taller.título = \"Neo4j Python\"\n",
    "CREATE (taller)-[:PRESENTADO_POR]->(cuba:Meetup {título: \"Cubantech\"}),\n",
    "(kinane)-[:ANFITRIÓN]->(beirut:Meetup {título: \"Graph Databases Beirut\"}),\n",
    "(cuba)-[:COLABORÓ_CON]->(beirut),\n",
    "(beirut)-[:COLABORÓ_CON]->(cuba)\n",
    "\"\"\"\n",
    "\n",
    "data = graph.run(query)"
   ]
  },
  {
   "cell_type": "markdown",
   "metadata": {},
   "source": [
    "Por ejemplo con entidades de direción postal, interés, profesión, etc."
   ]
  },
  {
   "cell_type": "code",
   "execution_count": 21,
   "metadata": {
    "collapsed": true
   },
   "outputs": [],
   "source": [
    "# Aquí"
   ]
  },
  {
   "cell_type": "markdown",
   "metadata": {},
   "source": [
    "Vamos a añadir unas restricciones de títulos de los talleres"
   ]
  },
  {
   "cell_type": "code",
   "execution_count": 22,
   "metadata": {
    "collapsed": false
   },
   "outputs": [],
   "source": [
    "query = \"\"\"\n",
    "CREATE CONSTRAINT ON (taller:Taller) ASSERT taller.título IS UNIQUE\n",
    "\"\"\"\n",
    "\n",
    "data = graph.run(query)"
   ]
  },
  {
   "cell_type": "markdown",
   "metadata": {},
   "source": [
    "Escribe una consulta cuyo resultado sea las demás personas que asistieron a este taller"
   ]
  },
  {
   "cell_type": "code",
   "execution_count": 23,
   "metadata": {
    "collapsed": true
   },
   "outputs": [],
   "source": [
    "# Aquí"
   ]
  },
  {
   "cell_type": "markdown",
   "metadata": {},
   "source": [
    "### py2neo\n",
    "En esta segunda parte del taller utilisamos a Python para interactuar con el grafo."
   ]
  },
  {
   "cell_type": "code",
   "execution_count": 24,
   "metadata": {
    "collapsed": false
   },
   "outputs": [],
   "source": [
    "from py2neo import Node, Relationship\n",
    "\n",
    "uh = Node(\"Patrocinador\", name=\"Universidad de la Habana\")\n",
    "neo = Node(\"Patrocinador\", name=\"Neo Technologies\")\n",
    "python = Node(\"Patrocinador\", name=\"Python\")\n",
    "\n",
    "neo4j = Node(\"DB\", nombre=\"Neo4j\", tipo=\"Grafo\", nosql=1)\n",
    "redis = Node(\"DB\", nombre=\"Redis\", tipo=\"Llave valor\", nosql=1)\n",
    "mongo = Node(\"DB\", nombre=\"Moongo DB\", tipo=\"Documento\", nosql=1)\n",
    "mySQL = Node(\"DB\", nombre=\"MySQL\", tipo=\"Relacional\", nosql=0)\n",
    "\n",
    "graph.create(uh | neo | python | neo4j | redis | mongo | mySQL)"
   ]
  },
  {
   "cell_type": "code",
   "execution_count": 25,
   "metadata": {
    "collapsed": false
   },
   "outputs": [
    {
     "name": "stdout",
     "output_type": "stream",
     "text": [
      "(a518f37:Taller {`título`:\"Neo4j Python\"}) (e381235:Persona {nombre:\"Kinane\"})\n"
     ]
    },
    {
     "name": "stderr",
     "output_type": "stream",
     "text": [
      "/opt/conda/lib/python3.5/site-packages/ipykernel/__main__.py:1: DeprecationWarning: Graph.find_one is deprecated, use NodeSelector instead\n",
      "  if __name__ == '__main__':\n",
      "/opt/conda/lib/python3.5/site-packages/ipykernel/__main__.py:2: DeprecationWarning: Graph.find_one is deprecated, use NodeSelector instead\n",
      "  from ipykernel import kernelapp as app\n"
     ]
    }
   ],
   "source": [
    "taller = graph.find_one(\"Taller\", \"título\", \"Neo4j Python\")\n",
    "kinane = graph.find_one(\"Persona\", \"nombre\", \"Kinane\")\n",
    "\n",
    "print(taller, kinane)"
   ]
  },
  {
   "cell_type": "markdown",
   "metadata": {},
   "source": [
    "Creamos las relaciones"
   ]
  },
  {
   "cell_type": "code",
   "execution_count": 26,
   "metadata": {
    "collapsed": false
   },
   "outputs": [],
   "source": [
    "graph.create(Relationship(uh, \"PATROCINA\", taller))\n",
    "graph.create(Relationship(neo, \"PATROCINA\", taller))\n",
    "graph.create(Relationship(python, \"PATROCINA\", taller))\n",
    "graph.create(Relationship(kinane, \"UTILIZA\", neo4j))\n",
    "graph.create(Relationship(kinane, \"UTILIZA\", redis))\n",
    "graph.create(Relationship(kinane, \"UTILIZA\", mongo))"
   ]
  },
  {
   "cell_type": "code",
   "execution_count": 51,
   "metadata": {
    "collapsed": false
   },
   "outputs": [
    {
     "name": "stdout",
     "output_type": "stream",
     "text": [
      "(cb371bc:DB {nombre:\"Moongo DB\",nosql:1,tipo:\"Documento\"})\n",
      "(b3e5bf5:DB {nombre:\"Redis\",nosql:1,tipo:\"Llave valor\"})\n",
      "(fd8cbdf:DB {nombre:\"Neo4j\",nosql:1,tipo:\"Grafo\"})\n"
     ]
    }
   ],
   "source": [
    "relaciones = graph.match(start_node=kinane, rel_type=\"UTILIZA\")\n",
    "\n",
    "for rel in relaciones:\n",
    "    print (rel.end_node())"
   ]
  }
 ],
 "metadata": {
  "kernelspec": {
   "display_name": "Python 3",
   "language": "python",
   "name": "python3"
  },
  "language_info": {
   "codemirror_mode": {
    "name": "ipython",
    "version": 3
   },
   "file_extension": ".py",
   "mimetype": "text/x-python",
   "name": "python",
   "nbconvert_exporter": "python",
   "pygments_lexer": "ipython3",
   "version": "3.5.1"
  }
 },
 "nbformat": 4,
 "nbformat_minor": 0
}
